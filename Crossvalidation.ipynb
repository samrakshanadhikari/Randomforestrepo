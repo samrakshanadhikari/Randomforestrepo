{
 "cells": [
  {
   "cell_type": "code",
   "execution_count": 4,
   "id": "dd8e4f94-fc0f-4892-b7a5-c2d4703f4d73",
   "metadata": {},
   "outputs": [
    {
     "name": "stderr",
     "output_type": "stream",
     "text": [
      "[Parallel(n_jobs=1)]: Done  49 tasks      | elapsed:    0.0s\n",
      "[Parallel(n_jobs=1)]: Done  49 tasks      | elapsed:    0.0s\n",
      "[Parallel(n_jobs=1)]: Done  49 tasks      | elapsed:    0.0s\n",
      "[Parallel(n_jobs=1)]: Done  49 tasks      | elapsed:    0.0s\n",
      "[Parallel(n_jobs=1)]: Done  49 tasks      | elapsed:    0.0s\n",
      "[Parallel(n_jobs=1)]: Done  49 tasks      | elapsed:    0.0s\n",
      "[Parallel(n_jobs=1)]: Done  49 tasks      | elapsed:    0.0s\n",
      "[Parallel(n_jobs=1)]: Done  49 tasks      | elapsed:    0.0s\n",
      "[Parallel(n_jobs=1)]: Done  49 tasks      | elapsed:    0.0s\n",
      "[Parallel(n_jobs=1)]: Done  49 tasks      | elapsed:    0.0s\n",
      "[Parallel(n_jobs=1)]: Done  49 tasks      | elapsed:    0.0s\n",
      "[Parallel(n_jobs=1)]: Done  49 tasks      | elapsed:    0.0s\n"
     ]
    },
    {
     "name": "stdout",
     "output_type": "stream",
     "text": [
      "\n",
      "\n",
      "\n",
      "              precision    recall  f1-score   support\n",
      "\n",
      "           0     0.7308    0.7451    0.7379        51\n",
      "           1     0.7292    0.7143    0.7216        49\n",
      "\n",
      "    accuracy                         0.7300       100\n",
      "   macro avg     0.7300    0.7297    0.7298       100\n",
      "weighted avg     0.7300    0.7300    0.7299       100\n",
      "\n",
      "Subgrupo de Features da Cross-Validation: all \n",
      "\n",
      "\n",
      "\n"
     ]
    },
    {
     "name": "stderr",
     "output_type": "stream",
     "text": [
      "[Parallel(n_jobs=1)]: Done  49 tasks      | elapsed:    0.0s\n",
      "[Parallel(n_jobs=1)]: Done  49 tasks      | elapsed:    0.0s\n",
      "[Parallel(n_jobs=1)]: Done  49 tasks      | elapsed:    0.0s\n",
      "[Parallel(n_jobs=1)]: Done  49 tasks      | elapsed:    0.0s\n",
      "[Parallel(n_jobs=1)]: Done  49 tasks      | elapsed:    0.0s\n",
      "[Parallel(n_jobs=1)]: Done  49 tasks      | elapsed:    0.0s\n",
      "[Parallel(n_jobs=1)]: Done  49 tasks      | elapsed:    0.0s\n",
      "[Parallel(n_jobs=1)]: Done  49 tasks      | elapsed:    0.0s\n",
      "[Parallel(n_jobs=1)]: Done  49 tasks      | elapsed:    0.0s\n",
      "[Parallel(n_jobs=1)]: Done  49 tasks      | elapsed:    0.0s\n",
      "[Parallel(n_jobs=1)]: Done  49 tasks      | elapsed:    0.0s\n",
      "[Parallel(n_jobs=1)]: Done  49 tasks      | elapsed:    0.0s\n",
      "[Parallel(n_jobs=1)]: Done  49 tasks      | elapsed:    0.0s\n"
     ]
    },
    {
     "name": "stdout",
     "output_type": "stream",
     "text": [
      "\n",
      "\n",
      "\n",
      "              precision    recall  f1-score   support\n",
      "\n",
      "           0     0.5769    0.5882    0.5825        51\n",
      "           1     0.5625    0.5510    0.5567        49\n",
      "\n",
      "    accuracy                         0.5700       100\n",
      "   macro avg     0.5697    0.5696    0.5696       100\n",
      "weighted avg     0.5699    0.5700    0.5699       100\n",
      "\n",
      "Subgrupo de Features da Cross-Validation: _CD \n",
      "\n",
      "\n",
      "\n"
     ]
    },
    {
     "name": "stderr",
     "output_type": "stream",
     "text": [
      "[Parallel(n_jobs=1)]: Done  49 tasks      | elapsed:    0.0s\n",
      "[Parallel(n_jobs=1)]: Done  49 tasks      | elapsed:    0.0s\n",
      "[Parallel(n_jobs=1)]: Done  49 tasks      | elapsed:    0.0s\n",
      "[Parallel(n_jobs=1)]: Done  49 tasks      | elapsed:    0.0s\n",
      "[Parallel(n_jobs=1)]: Done  49 tasks      | elapsed:    0.0s\n",
      "[Parallel(n_jobs=1)]: Done  49 tasks      | elapsed:    0.0s\n"
     ]
    },
    {
     "name": "stdout",
     "output_type": "stream",
     "text": [
      "\n",
      "\n",
      "\n",
      "              precision    recall  f1-score   support\n",
      "\n",
      "           0     0.6400    0.6275    0.6337        51\n",
      "           1     0.6200    0.6327    0.6263        49\n",
      "\n",
      "    accuracy                         0.6300       100\n",
      "   macro avg     0.6300    0.6301    0.6300       100\n",
      "weighted avg     0.6302    0.6300    0.6300       100\n",
      "\n",
      "Subgrupo de Features da Cross-Validation: _CE \n",
      "\n",
      "\n",
      "\n"
     ]
    },
    {
     "name": "stderr",
     "output_type": "stream",
     "text": [
      "[Parallel(n_jobs=1)]: Done  49 tasks      | elapsed:    0.0s\n",
      "[Parallel(n_jobs=1)]: Done  49 tasks      | elapsed:    0.0s\n",
      "[Parallel(n_jobs=1)]: Done  49 tasks      | elapsed:    0.0s\n",
      "[Parallel(n_jobs=1)]: Done  49 tasks      | elapsed:    0.0s\n",
      "[Parallel(n_jobs=1)]: Done  49 tasks      | elapsed:    0.0s\n",
      "[Parallel(n_jobs=1)]: Done  49 tasks      | elapsed:    0.0s\n",
      "[Parallel(n_jobs=1)]: Done  49 tasks      | elapsed:    0.0s\n",
      "[Parallel(n_jobs=1)]: Done  49 tasks      | elapsed:    0.0s\n",
      "[Parallel(n_jobs=1)]: Done  49 tasks      | elapsed:    0.0s\n",
      "[Parallel(n_jobs=1)]: Done  49 tasks      | elapsed:    0.0s\n",
      "[Parallel(n_jobs=1)]: Done  49 tasks      | elapsed:    0.0s\n",
      "[Parallel(n_jobs=1)]: Done  49 tasks      | elapsed:    0.0s\n",
      "[Parallel(n_jobs=1)]: Done  49 tasks      | elapsed:    0.0s\n"
     ]
    },
    {
     "name": "stdout",
     "output_type": "stream",
     "text": [
      "\n",
      "\n",
      "\n",
      "              precision    recall  f1-score   support\n",
      "\n",
      "           0     0.6000    0.5882    0.5941        51\n",
      "           1     0.5800    0.5918    0.5859        49\n",
      "\n",
      "    accuracy                         0.5900       100\n",
      "   macro avg     0.5900    0.5900    0.5900       100\n",
      "weighted avg     0.5902    0.5900    0.5900       100\n",
      "\n",
      "Subgrupo de Features da Cross-Validation: _MD \n",
      "\n",
      "\n",
      "\n"
     ]
    },
    {
     "name": "stderr",
     "output_type": "stream",
     "text": [
      "[Parallel(n_jobs=1)]: Done  49 tasks      | elapsed:    0.0s\n",
      "[Parallel(n_jobs=1)]: Done  49 tasks      | elapsed:    0.0s\n",
      "[Parallel(n_jobs=1)]: Done  49 tasks      | elapsed:    0.0s\n",
      "[Parallel(n_jobs=1)]: Done  49 tasks      | elapsed:    0.0s\n",
      "[Parallel(n_jobs=1)]: Done  49 tasks      | elapsed:    0.0s\n",
      "[Parallel(n_jobs=1)]: Done  49 tasks      | elapsed:    0.0s\n"
     ]
    },
    {
     "name": "stdout",
     "output_type": "stream",
     "text": [
      "\n",
      "\n",
      "\n",
      "              precision    recall  f1-score   support\n",
      "\n",
      "           0     0.6071    0.6667    0.6355        51\n",
      "           1     0.6136    0.5510    0.5806        49\n",
      "\n",
      "    accuracy                         0.6100       100\n",
      "   macro avg     0.6104    0.6088    0.6081       100\n",
      "weighted avg     0.6103    0.6100    0.6086       100\n",
      "\n",
      "Subgrupo de Features da Cross-Validation: _ME \n",
      "\n",
      "\n",
      "\n"
     ]
    },
    {
     "name": "stderr",
     "output_type": "stream",
     "text": [
      "[Parallel(n_jobs=1)]: Done  49 tasks      | elapsed:    0.0s\n",
      "[Parallel(n_jobs=1)]: Done  49 tasks      | elapsed:    0.0s\n",
      "[Parallel(n_jobs=1)]: Done  49 tasks      | elapsed:    0.0s\n",
      "[Parallel(n_jobs=1)]: Done  49 tasks      | elapsed:    0.0s\n",
      "[Parallel(n_jobs=1)]: Done  49 tasks      | elapsed:    0.0s\n",
      "[Parallel(n_jobs=1)]: Done  49 tasks      | elapsed:    0.0s\n",
      "[Parallel(n_jobs=1)]: Done  49 tasks      | elapsed:    0.0s\n"
     ]
    },
    {
     "name": "stdout",
     "output_type": "stream",
     "text": [
      "\n",
      "\n",
      "\n",
      "              precision    recall  f1-score   support\n",
      "\n",
      "           0     0.7347    0.7059    0.7200        51\n",
      "           1     0.7059    0.7347    0.7200        49\n",
      "\n",
      "    accuracy                         0.7200       100\n",
      "   macro avg     0.7203    0.7203    0.7200       100\n",
      "weighted avg     0.7206    0.7200    0.7200       100\n",
      "\n",
      "Subgrupo de Features da Cross-Validation: _SA \n",
      "\n",
      "\n",
      "\n"
     ]
    },
    {
     "name": "stderr",
     "output_type": "stream",
     "text": [
      "[Parallel(n_jobs=1)]: Done  49 tasks      | elapsed:    0.0s\n",
      "[Parallel(n_jobs=1)]: Done  49 tasks      | elapsed:    0.0s\n",
      "[Parallel(n_jobs=1)]: Done  49 tasks      | elapsed:    0.0s\n"
     ]
    }
   ],
   "source": [
    "# ========== Import required libraries ==========\n",
    "import os\n",
    "import numpy as np\n",
    "import pandas as pd\n",
    "from sklearn.model_selection import cross_val_predict, StratifiedKFold\n",
    "from sklearn.ensemble import RandomForestClassifier\n",
    "from sklearn.metrics import classification_report\n",
    "\n",
    "# ========== Constants ==========\n",
    "COLUMNS_TO_REMOVE = [\n",
    "    'Pacientes', 'Nome', 'T-Score L1-L4', 'T-Score Fêmur Total',\n",
    "    'EspessuraCorticalPan', 'EspessuraCorticalTrans', 'IMC',\n",
    "    'T-Score Colo Femoral', 'Idade', 'Altura', 'Peso',\n",
    "    'BMD L1-L4', 'BMD Colo Femoral', 'BMD Fêmur Total'\n",
    "]\n",
    "TARGET_NAME = 'Diagnosticounificado'\n",
    "SUBGRUPOS = ['all','_CD', '_CE', '_MD', '_ME', '_SA']\n",
    "FILE_PATH = 'train_database_matheus.csv'\n",
    "\n",
    "# ========== Function to load CSV and remove unnecessary columns ==========\n",
    "def read_csv_and_split(path, columns_to_remove):\n",
    "    df = pd.read_csv(path, sep=';')\n",
    "    df_train = df.drop(columns=columns_to_remove)\n",
    "    return df_train, list(df_train.columns)\n",
    "\n",
    "# ========== Function to filter features based on subgroup name ==========\n",
    "def filtrar_palavras(lista, parametro):\n",
    "    palavras_especificas = [\n",
    "        'Altura da cortical (D)', 'Altura forame-base (D)',\n",
    "        'Altura da medular forame-superficie  da cortical (D)',\n",
    "        'Altura da cortical (E)', 'Altura forame-base (E)',\n",
    "        'Altura da medular forame-superficie  da cortical (E)',\n",
    "    ]\n",
    "    if parametro.lower() == \"all\":\n",
    "        return lista\n",
    "    else:\n",
    "        return [\n",
    "            palavra for palavra in lista\n",
    "            if parametro.lower() in palavra.lower() or palavra in palavras_especificas\n",
    "        ]\n",
    "\n",
    "# ========== Main logic ==========\n",
    "if __name__ == '__main__':\n",
    "    # Create a writable output directory (e.g., in the home folder)\n",
    "    output_dir = os.path.expanduser('~/classification_reports')\n",
    "    os.makedirs(output_dir, exist_ok=True)\n",
    "\n",
    "    for subgrupo in SUBGRUPOS:\n",
    "        train_df, all_columns = read_csv_and_split(FILE_PATH, COLUMNS_TO_REMOVE)\n",
    "        features = filtrar_palavras(all_columns, subgrupo)\n",
    "\n",
    "        # Make sure target is not in features\n",
    "        if TARGET_NAME in features:\n",
    "            features.remove(TARGET_NAME)\n",
    "\n",
    "        X = train_df[features].to_numpy()\n",
    "        y = train_df[TARGET_NAME].to_numpy()\n",
    "\n",
    "        learning_model = RandomForestClassifier(verbose=True)\n",
    "        cv = StratifiedKFold(n_splits=5, shuffle=True, random_state=42)\n",
    "        y_pred_cv = cross_val_predict(learning_model, X, y, cv=cv)\n",
    "\n",
    "        report = classification_report(y, y_pred_cv, digits=4)\n",
    "\n",
    "        print('\\n\\n')\n",
    "        print(report)\n",
    "        print('Subgrupo de Features da Cross-Validation:', subgrupo, '\\n\\n\\n')\n",
    "\n",
    "        # Write report to a text file\n",
    "        file_path = f'{output_dir}/classification_report_{subgrupo}.txt'\n",
    "        with open(file_path, 'w') as f:\n",
    "            f.write(report)\n",
    "            f.write(f'\\nSubgrupo de Features da Cross-Validation: {subgrupo}\\n\\n\\n')\n"
   ]
  },
  {
   "cell_type": "markdown",
   "id": "aebfb8a2-4d62-4f40-a4fd-e5d0ccde335c",
   "metadata": {},
   "source": [
    "This Python script performs a machine learning classification task using a Random Forest Classifier on a medical dataset to predict the target variable Diagnosticounificado. It begins by importing the necessary libraries and defining constants, including a list of columns to remove and specific feature subgroups to analyze. The script reads the dataset, cleans it by removing unnecessary columns, and selects features based on the current subgroup being tested. It then prepares the data by converting features and labels into NumPy arrays and performs stratified 5-fold cross-validation to ensure class distribution is maintained. A Random Forest model is trained and used to generate predictions, after which the script prints and saves a classification report showing key metrics like precision, recall, and F1-score. This process is repeated for each feature subgroup, allowing for systematic evaluation of how different sets of features affect model performance."
   ]
  }
 ],
 "metadata": {
  "kernelspec": {
   "display_name": "Python 3 (ipykernel)",
   "language": "python",
   "name": "python3"
  },
  "language_info": {
   "codemirror_mode": {
    "name": "ipython",
    "version": 3
   },
   "file_extension": ".py",
   "mimetype": "text/x-python",
   "name": "python",
   "nbconvert_exporter": "python",
   "pygments_lexer": "ipython3",
   "version": "3.9.21"
  }
 },
 "nbformat": 4,
 "nbformat_minor": 5
}
